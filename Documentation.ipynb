{
 "cells": [
  {
   "cell_type": "markdown",
   "metadata": {},
   "source": [
    "# Program analysis.py\n",
    "\n",
    "***"
   ]
  },
  {
   "cell_type": "markdown",
   "metadata": {},
   "source": [
    "The program analyses the data set of Iris flowers. To better understand data in the data set, check the picture.\n",
    "\n",
    "<img src=\"img/Three-species-of-IRIS-flower.png\"  width=\"635\" height=\"313\" img align='center'>\n",
    "\n",
    "The picture illustrates what is the sepal and the petal for each species. It was originally uploaded by Shohal Hossain on the [ResearchGate website](https://www.researchgate.net/figure/Three-species-of-IRIS-flower_fig1_367220930) and may be subject to copyright."
   ]
  },
  {
   "cell_type": "markdown",
   "metadata": {},
   "source": [
    "### Project assumptions. \n",
    "\n",
    "The program is based on a five-position menu. The user can choose between: generate a summary of the data sets in the form of a Txt file, create histograms based on the available data, display scatter plots of individual sets of variables and perform analysis (in this case, it will be the calculation of a regression matrix using the Pears method). To close the program, it is necessary to use quit."
   ]
  },
  {
   "cell_type": "markdown",
   "metadata": {},
   "source": [
    "The code of program starts by importing necessary libraries such as [pandas](https://pandas.pydata.org), [NumPy](https://numpy.org) and [matplotlib](https://matplotlib.org). \n",
    "Click links to go to official library sites."
   ]
  },
  {
   "cell_type": "markdown",
   "metadata": {},
   "source": [
    "Next the data set is loaded into the program.\n",
    "It is realised by set variable pd and use pd.csv_read(*filepath_or_buffer*)\n",
    "Information about pd.csv_read on [the pandas library website](https://pandas.pydata.org/pandas-docs/stable/reference/api/pandas.read_csv.html#).\n"
   ]
  },
  {
   "cell_type": "markdown",
   "metadata": {},
   "source": [
    "The menu code is adapted from Andrew Beatty's [code](https://github.com/andrewbeattycourseware/pands-course-material/blob/main/code/topic06-functions/lab06.09-walkthrough.py) for the Programming and Scripting module.\n",
    "\n",
    "The whole idea of this menu is to allow users to choose what to do by using dedicated letters.\n",
    "\n",
    "The function displayMenu() contains in this case, six print() statements with descriptions and options to choose from. The function then reads user input using the input() function and stores it in a variable named choice. Finally, it returns the value of the choice variable.\n",
    "\n",
    "The condition of the while loop is that the program will continue to run until the user selects \"q\". If \"q\" is selected, the program prints a dedicated statement and finishes working.\n",
    "\n",
    "Inside the while loop is located [if-elif-else statement](https://www.programiz.com/python-programming/if-elif-else), which is used when there is a need to choose between more than two alternatives. The program checks when conditions are True and then realizes the related block of code. In this case, the else statement is used to prevent errors.\n",
    "\n"
   ]
  },
  {
   "cell_type": "markdown",
   "metadata": {},
   "source": [
    "The program has a new function called writeSummaryToFile(), which takes the file's name as an argument. \n",
    "\n",
    "The *with* statement works with the open() function to open a file. With access code w (write only), the file is open for writing. If the file does not exist, it is created, but if it does exist, it is overwritten.\n",
    "<br>In this case, the syntax is:\n",
    "```\n",
    "with open(filename, \"w\") as file:\n",
    "```\n",
    "\n",
    "To create content for the summary file, the code is used:\n",
    "```\n",
    "file.write(\"Content\")\n",
    "```"
   ]
  },
  {
   "cell_type": "markdown",
   "metadata": {},
   "source": [
    "More information about opening file on [Freecodecamp website](https://www.freecodecamp.org/news/with-open-in-python-with-statement-syntax-example/) and on [GeeksforGeeks website](https://www.geeksforgeeks.org/writing-to-file-in-python/)."
   ]
  },
  {
   "cell_type": "markdown",
   "metadata": {},
   "source": [
    "In the summary.txt file to find out some basic information about the data set is used:\n",
    "* pd.shape - the shape of the dataset. Read more on [Pandas official website](https://pandas.pydata.org/docs/reference/api/pandas.DataFrame.shape.html#).\n",
    "* pd.dtype - the data types of each column.Read more on [Pandas official website](https://pandas.pydata.org/docs/reference/api/pandas.DataFrame.dtypes.html#).\n",
    "* pd.head() - the first 5 rows of the dataset. Read more on [Pandas official website](https://pandas.pydata.org/docs/reference/api/pandas.DataFrame.head.html#).\n",
    "* pd.tail() - the last 5 rows of the dataset. Read more on [Pandas official website](https://pandas.pydata.org/docs/reference/api/pandas.DataFrame.tail.html#). \n",
    "* pd.describe() - the statistics summary of the dataset. Read more on [Pandas official website](https://pandas.pydata.org/docs/reference/api/pandas.DataFrame.describe.html#).\n",
    "* pd[\"species\"].value_counts() - the number of each species in the dataset. Read more on [GeeksforGeeks website](https://www.geeksforgeeks.org/python-basics-of-pandas-using-iris-dataset/).\n",
    "* pd.isnull().sum() - the number of missing values in the dataset. Read more on [Medium website](https://medium.com/@mahim1066/when-you-execute-df-isnull-sum-4a53cf89390c).\n",
    "* pd.nunique() - the number of unique values in the dataset. Read more on [Pandas official website](https://pandas.pydata.org/docs/reference/api/pandas.DataFrame.nunique.html#).\n",
    "* pd.duplicated().sum() - number of duplicate rows in the dataset. Read more on [Begin Coding Now website](https://begincodingnow.com/duplicate-rows-in-pandas/).\n",
    "* pd.duplicated(keep=False) - if keep set on False, all duplicates are True. Read more on [Pandas official website](https://pandas.pydata.org/docs/reference/api/pandas.DataFrame.duplicated.html#)."
   ]
  },
  {
   "cell_type": "markdown",
   "metadata": {},
   "source": [
    "Information about summary data in Python on [Learn Python Website](https://learnpython.com/blog/how-to-summarize-data-in-python/).\n",
    "\n"
   ]
  },
  {
   "cell_type": "markdown",
   "metadata": {},
   "source": [
    "The function is the statement inside the if loop in the main program."
   ]
  },
  {
   "cell_type": "markdown",
   "metadata": {},
   "source": [
    "***\n",
    "\n",
    "### End"
   ]
  }
 ],
 "metadata": {
  "language_info": {
   "name": "python"
  }
 },
 "nbformat": 4,
 "nbformat_minor": 2
}
